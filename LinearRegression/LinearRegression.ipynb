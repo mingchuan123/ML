{
 "cells": [
  {
   "cell_type": "code",
   "execution_count": 2,
   "metadata": {
    "collapsed": false
   },
   "outputs": [],
   "source": [
    "import matplotlib.pyplot as plt\n",
    "%matplotlib inline"
   ]
  },
  {
   "cell_type": "code",
   "execution_count": 3,
   "metadata": {
    "collapsed": true
   },
   "outputs": [],
   "source": [
    "A = [[1,2], \n",
    "     [2,3], \n",
    "     [3,4]]\n",
    "\n",
    "B = [[1,2], \n",
    "     [2,3], \n",
    "     [4,5],\n",
    "     [7,8],\n",
    "     [4,7],\n",
    "     [5,7],\n",
    "     [6,2]]"
   ]
  },
  {
   "cell_type": "code",
   "execution_count": 4,
   "metadata": {
    "collapsed": false
   },
   "outputs": [
    {
     "data": {
      "text/plain": [
       "[<matplotlib.lines.Line2D at 0x10fabd400>]"
      ]
     },
     "execution_count": 4,
     "metadata": {},
     "output_type": "execute_result"
    },
    {
     "data": {
      "image/png": "[encoded data removed]",
      "text/plain": [
       "<matplotlib.figure.Figure at 0x10f9cbdd8>"
      ]
     },
     "metadata": {},
     "output_type": "display_data"
    }
   ],
   "source": [
    "x_ax = [x for [x,y] in A]\n",
    "y_ax = [y for [x,y] in A]\n",
    "plt.plot(*zip(*A),'ro')"
   ]
  },
  {
   "cell_type": "code",
   "execution_count": 5,
   "metadata": {
    "collapsed": false
   },
   "outputs": [],
   "source": [
    "def transpose(x):\n",
    "    \n",
    "    if not isinstance(x[0],list):\n",
    "        \n",
    "        return [x]\n",
    "        \n",
    "        \n",
    "    tmatrix = [[0 for i in range(len(x))] for j in range(len(x[0]))]\n",
    "        \n",
    "    for i in range(len(x)):\n",
    "        for j in range(len(x[0])):\n",
    "            tmatrix[j][i] = x[i][j]\n",
    "                \n",
    "    C = []        \n",
    "    if len(tmatrix[0]) == 1:\n",
    "        for item in tmatrix:\n",
    "            C.append(item[0])\n",
    "        \n",
    "        return C\n",
    "    \n",
    "        \n",
    "    return tmatrix "
   ]
  },
  {
   "cell_type": "code",
   "execution_count": 6,
   "metadata": {
    "collapsed": true
   },
   "outputs": [],
   "source": [
    "def multiply(x,y):\n",
    "    \n",
    "    if not isinstance(y[0],list):\n",
    "        \n",
    "        y = [[num] for num in y]\n",
    "    \n",
    "    output = [[0 for i in range(len(y[0]))] for j in range(len(x))]\n",
    "    \n",
    "    for i in range(len(x)):\n",
    "        for j in range(len(y[0])):\n",
    "            for k in range(len(x[0])):\n",
    "                \n",
    "                output[i][j] += x[i][k]*y[k][j]\n",
    "    C = []        \n",
    "    if len(output[0]) == 1:\n",
    "        for item in output:\n",
    "            C.append(item[0])\n",
    "        return C\n",
    "    \n",
    "    return output"
   ]
  },
  {
   "cell_type": "code",
   "execution_count": 7,
   "metadata": {
    "collapsed": true
   },
   "outputs": [],
   "source": [
    "def data_label_split(x):\n",
    "    d = []\n",
    "    l = []\n",
    "    for item in x:\n",
    "            d.append([item[0],1])\n",
    "            l.append(item[1])\n",
    "            \n",
    "    return d,l            "
   ]
  },
  {
   "cell_type": "code",
   "execution_count": 8,
   "metadata": {
    "collapsed": true
   },
   "outputs": [],
   "source": [
    "def Minus(x,y):\n",
    "    return [x[i]-y[i] for i in range(len(x))]"
   ]
  },
  {
   "cell_type": "code",
   "execution_count": 9,
   "metadata": {
    "collapsed": true
   },
   "outputs": [],
   "source": [
    "from copy import deepcopy\n",
    "def invert(X):\n",
    "    \n",
    "    #copy X to avoid altering input\n",
    "    X = deepcopy(X)\n",
    "\n",
    "    #Get dimensions of X\n",
    "    rows = len(X)\n",
    "    cols = len(X[0])\n",
    "\n",
    "    #Get the identity matrix and append it to the right of X\n",
    "    #This is done because our row operations will make the identity into the inverse\n",
    "    identity = make_identity(rows,cols)\n",
    "    for i in range(0,rows):\n",
    "        X[i]+=identity[i]\n",
    "\n",
    "    i = 0\n",
    "    for j in range(0,cols):\n",
    "        print(\"On col {0} and row {1}\".format(j,i))\n",
    "        #Check to see if there are any nonzero values below the current row in the current column\n",
    "        zero_sum, first_non_zero = check_for_all_zeros(X,i,j)\n",
    "        #If everything is zero, increment the columns\n",
    "        if zero_sum==0:\n",
    "            if j==cols:\n",
    "                return X\n",
    "            raise Exception(\"Matrix is singular.\")\n",
    "        #If X[i][j] is 0, and there is a nonzero value below it, swap the two rows\n",
    "        if first_non_zero != i:\n",
    "            X = swap_row(X,i,first_non_zero)\n",
    "        #Divide X[i] by X[i][j] to make X[i][j] equal 1\n",
    "        X[i] = [m/X[i][j] for m in X[i]]\n",
    "\n",
    "        #Rescale all other rows to make their values 0 below X[i][j]\n",
    "        for q in range(0,rows):\n",
    "            if q!=i:\n",
    "                scaled_row = [X[q][j] * m for m in X[i]]\n",
    "                X[q]= [X[q][m] - scaled_row[m] for m in range(0,len(scaled_row))]\n",
    "        #If either of these is true, we have iterated through the matrix, and are done\n",
    "        if i==rows or j==cols:\n",
    "            break\n",
    "        i+=1\n",
    "\n",
    "    #Get just the right hand matrix, which is now our inverse\n",
    "    for i in range(0,rows):\n",
    "        X[i] = X[i][cols:len(X[i])]\n",
    "\n",
    "    return X\n",
    "\n",
    "def check_for_all_zeros(X,i,j):\n",
    "    \n",
    "    non_zeros = []\n",
    "    first_non_zero = -1\n",
    "    for m in range(i,len(X)):\n",
    "        non_zero = X[m][j]!=0\n",
    "        non_zeros.append(non_zero)\n",
    "        if first_non_zero==-1 and non_zero:\n",
    "            first_non_zero = m\n",
    "    zero_sum = sum(non_zeros)\n",
    "    return zero_sum, first_non_zero\n",
    "\n",
    "def swap_row(X,i,p):\n",
    "    \n",
    "    X[p], X[i] = X[i], X[p]\n",
    "    return X\n",
    "\n",
    "def make_identity(r,c):\n",
    "    \n",
    "    identity = []\n",
    "    for i in range(0,r):\n",
    "        row = []\n",
    "        for j in range(0,c):\n",
    "            elem = 0\n",
    "            if i==j:\n",
    "                elem = 1\n",
    "            row.append(elem)\n",
    "        identity.append(row)\n",
    "    return identity"
   ]
  },
  {
   "cell_type": "code",
   "execution_count": 10,
   "metadata": {
    "collapsed": true
   },
   "outputs": [],
   "source": [
    "def optimization(x,w,y):\n",
    "    XtX = multiply(transpose(x),x)\n",
    "    Xty = multiply(transpose(x), y)\n",
    "    w = multiply(invert(XtX), Xty)\n",
    "    return w"
   ]
  },
  {
   "cell_type": "code",
   "execution_count": 12,
   "metadata": {
    "collapsed": false
   },
   "outputs": [],
   "source": [
    "data,label = data_label_split(A)\n",
    "X = data\n",
    "y = label"
   ]
  },
  {
   "cell_type": "code",
   "execution_count": 27,
   "metadata": {
    "collapsed": false
   },
   "outputs": [
    {
     "name": "stdout",
     "output_type": "stream",
     "text": [
      "On col 0 and row 0\n",
      "On col 1 and row 1\n",
      "[0.9999999999999982, 1.0000000000000036]\n"
     ]
    }
   ],
   "source": [
    "m = 100\n",
    "b = 100\n",
    "w = [m,b]\n",
    "Xw = multiply(X,w)\n",
    "w = optimization(X,w,y)\n",
    "py = multiply(X,w)\n",
    "print(w)"
   ]
  },
  {
   "cell_type": "code",
   "execution_count": 14,
   "metadata": {
    "collapsed": false
   },
   "outputs": [
    {
     "data": {
      "image/png": "[encoded data removed]",
      "text/plain": [
       "<matplotlib.figure.Figure at 0x10f9b4940>"
      ]
     },
     "metadata": {},
     "output_type": "display_data"
    }
   ],
   "source": [
    "plt.scatter(x_ax,y_ax)\n",
    "plt.plot(x_ax,py, 'r')\n",
    "plt.show()"
   ]
  },
  {
   "cell_type": "code",
   "execution_count": 28,
   "metadata": {
    "collapsed": true
   },
   "outputs": [],
   "source": [
    "X2,y2 = data_label_split(B)"
   ]
  },
  {
   "cell_type": "code",
   "execution_count": 29,
   "metadata": {
    "collapsed": false
   },
   "outputs": [],
   "source": [
    "x2_ax = [x for [x,y] in B]\n",
    "y2_ax = [y for [x,y] in B]"
   ]
  },
  {
   "cell_type": "code",
   "execution_count": 30,
   "metadata": {
    "collapsed": false
   },
   "outputs": [
    {
     "name": "stdout",
     "output_type": "stream",
     "text": [
      "On col 0 and row 0\n",
      "On col 1 and row 1\n"
     ]
    }
   ],
   "source": [
    "Xw = multiply(X2,w)\n",
    "w = optimization(X2,w,y2)\n",
    "py2 = multiply(X2,w)"
   ]
  },
  {
   "cell_type": "code",
   "execution_count": 32,
   "metadata": {
    "collapsed": false
   },
   "outputs": [
    {
     "data": {
      "image/png": "[encoded data removed]",
      "text/plain": [
       "<matplotlib.figure.Figure at 0x116ca9a90>"
      ]
     },
     "metadata": {},
     "output_type": "display_data"
    }
   ],
   "source": [
    "plt.scatter(x2_ax,y2_ax)\n",
    "plt.plot(x2_ax,py2, 'r')\n",
    "plt.show()"
   ]
  },
  {
   "cell_type": "code",
   "execution_count": 19,
   "metadata": {
    "collapsed": true
   },
   "outputs": [],
   "source": [
    "import pandas as pd"
   ]
  },
  {
   "cell_type": "code",
   "execution_count": 20,
   "metadata": {
    "collapsed": false
   },
   "outputs": [],
   "source": [
    "data = pd.read_csv('Table_1.csv')"
   ]
  },
  {
   "cell_type": "code",
   "execution_count": 21,
   "metadata": {
    "collapsed": false
   },
   "outputs": [],
   "source": [
    "X3 = []\n",
    "p = data['Interest Rate'].dropna()\n",
    "for i in range(len(p)):\n",
    "    X3.append([float(p[i]),1])"
   ]
  },
  {
   "cell_type": "code",
   "execution_count": 22,
   "metadata": {
    "collapsed": false
   },
   "outputs": [],
   "source": [
    "k = data['Home Price'].dropna()\n",
    "y3 = []\n",
    "for i in range(len(k)):\n",
    "    m = k.iloc[i][1:].replace(',','')\n",
    "    y3.append(float(m))"
   ]
  },
  {
   "cell_type": "code",
   "execution_count": 23,
   "metadata": {
    "collapsed": false
   },
   "outputs": [
    {
     "name": "stdout",
     "output_type": "stream",
     "text": [
      "On col 0 and row 0\n",
      "On col 1 and row 1\n"
     ]
    }
   ],
   "source": [
    "Xw = multiply(X3,w)\n",
    "w = optimization(X3,w,y3)\n",
    "py3 = multiply(X3,w)"
   ]
  },
  {
   "cell_type": "code",
   "execution_count": 24,
   "metadata": {
    "collapsed": false
   },
   "outputs": [],
   "source": [
    "x3_ax = [x for [x,y] in X3]\n",
    "y3_ax = y3"
   ]
  },
  {
   "cell_type": "code",
   "execution_count": 25,
   "metadata": {
    "collapsed": false
   },
   "outputs": [
    {
     "data": {
      "image/png": "[encoded data removed]",
      "text/plain": [
       "<matplotlib.figure.Figure at 0x116ca9898>"
      ]
     },
     "metadata": {},
     "output_type": "display_data"
    }
   ],
   "source": [
    "plt.scatter(x3_ax,y3_ax)\n",
    "plt.plot(x3_ax,py3, 'r')\n",
    "plt.show()"
   ]
  },
  {
   "cell_type": "code",
   "execution_count": null,
   "metadata": {
    "collapsed": true
   },
   "outputs": [],
   "source": []
  }
 ],
 "metadata": {
  "kernelspec": {
   "display_name": "Python 3",
   "language": "python",
   "name": "python3"
  },
  "language_info": {
   "codemirror_mode": {
    "name": "ipython",
    "version": 3
   },
   "file_extension": ".py",
   "mimetype": "text/x-python",
   "name": "python",
   "nbconvert_exporter": "python",
   "pygments_lexer": "ipython3",
   "version": "3.6.0"
  }
 },
 "nbformat": 4,
 "nbformat_minor": 2
}
